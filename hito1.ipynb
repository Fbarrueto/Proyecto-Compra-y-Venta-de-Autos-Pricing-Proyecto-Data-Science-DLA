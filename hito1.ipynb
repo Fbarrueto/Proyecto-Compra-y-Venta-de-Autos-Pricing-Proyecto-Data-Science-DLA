{
 "cells": [
  {
   "cell_type": "code",
   "execution_count": 1,
   "metadata": {},
   "outputs": [],
   "source": [
    "import pandas as pd\n",
    "import numpy as np\n",
    "import matplotlib.pyplot as plt\n",
    "import seaborn as sns\n",
    "\n",
    "from sklearn.metrics import classification_report\n",
    "from sklearn.model_selection import train_test_split, GridSearchCV\n",
    "from sklearn.pipeline import Pipeline\n",
    "\n",
    "from feature_engine.imputation import CategoricalImputer, MeanMedianImputer\n",
    "from feature_engine.encoding import OrdinalEncoder, OneHotEncoder\n",
    "from feature_engine.wrappers import SklearnTransformerWrapper\n",
    "from sklearn.preprocessing import StandardScaler\n",
    "\n",
    "from sklearn.tree import DecisionTreeClassifier\n",
    "from sklearn.linear_model import LogisticRegression\n",
    "from sklearn.svm import SVC\n",
    "from sklearn.naive_bayes import GaussianNB\n",
    "from sklearn.neighbors import KNeighborsClassifier\n",
    "from sklearn.ensemble import VotingClassifier, RandomForestClassifier, GradientBoostingClassifier, AdaBoostClassifier\n",
    "\n",
    "from sklearn import set_config\n",
    "import utils\n",
    "set_config(display='diagram')"
   ]
  },
  {
   "cell_type": "code",
   "execution_count": 2,
   "metadata": {},
   "outputs": [
    {
     "data": {
      "text/html": [
       "<div>\n",
       "<style scoped>\n",
       "    .dataframe tbody tr th:only-of-type {\n",
       "        vertical-align: middle;\n",
       "    }\n",
       "\n",
       "    .dataframe tbody tr th {\n",
       "        vertical-align: top;\n",
       "    }\n",
       "\n",
       "    .dataframe thead th {\n",
       "        text-align: right;\n",
       "    }\n",
       "</style>\n",
       "<table border=\"1\" class=\"dataframe\">\n",
       "  <thead>\n",
       "    <tr style=\"text-align: right;\">\n",
       "      <th></th>\n",
       "      <th>Price</th>\n",
       "      <th>Year</th>\n",
       "      <th>Mileage</th>\n",
       "      <th>City</th>\n",
       "      <th>State</th>\n",
       "      <th>Vin</th>\n",
       "      <th>Make</th>\n",
       "      <th>Model</th>\n",
       "    </tr>\n",
       "  </thead>\n",
       "  <tbody>\n",
       "    <tr>\n",
       "      <th>0</th>\n",
       "      <td>8995</td>\n",
       "      <td>2014</td>\n",
       "      <td>35725</td>\n",
       "      <td>El Paso</td>\n",
       "      <td>TX</td>\n",
       "      <td>19VDE2E53EE000083</td>\n",
       "      <td>Acura</td>\n",
       "      <td>ILX6-Speed</td>\n",
       "    </tr>\n",
       "    <tr>\n",
       "      <th>1</th>\n",
       "      <td>10888</td>\n",
       "      <td>2013</td>\n",
       "      <td>19606</td>\n",
       "      <td>Long Island City</td>\n",
       "      <td>NY</td>\n",
       "      <td>19VDE1F52DE012636</td>\n",
       "      <td>Acura</td>\n",
       "      <td>ILX5-Speed</td>\n",
       "    </tr>\n",
       "    <tr>\n",
       "      <th>2</th>\n",
       "      <td>8995</td>\n",
       "      <td>2013</td>\n",
       "      <td>48851</td>\n",
       "      <td>El Paso</td>\n",
       "      <td>TX</td>\n",
       "      <td>19VDE2E52DE000025</td>\n",
       "      <td>Acura</td>\n",
       "      <td>ILX6-Speed</td>\n",
       "    </tr>\n",
       "    <tr>\n",
       "      <th>3</th>\n",
       "      <td>10999</td>\n",
       "      <td>2014</td>\n",
       "      <td>39922</td>\n",
       "      <td>Windsor</td>\n",
       "      <td>CO</td>\n",
       "      <td>19VDE1F71EE003817</td>\n",
       "      <td>Acura</td>\n",
       "      <td>ILX5-Speed</td>\n",
       "    </tr>\n",
       "    <tr>\n",
       "      <th>4</th>\n",
       "      <td>14799</td>\n",
       "      <td>2016</td>\n",
       "      <td>22142</td>\n",
       "      <td>Lindon</td>\n",
       "      <td>UT</td>\n",
       "      <td>19UDE2F32GA001284</td>\n",
       "      <td>Acura</td>\n",
       "      <td>ILXAutomatic</td>\n",
       "    </tr>\n",
       "    <tr>\n",
       "      <th>...</th>\n",
       "      <td>...</td>\n",
       "      <td>...</td>\n",
       "      <td>...</td>\n",
       "      <td>...</td>\n",
       "      <td>...</td>\n",
       "      <td>...</td>\n",
       "      <td>...</td>\n",
       "      <td>...</td>\n",
       "    </tr>\n",
       "    <tr>\n",
       "      <th>852117</th>\n",
       "      <td>63215</td>\n",
       "      <td>2017</td>\n",
       "      <td>9</td>\n",
       "      <td>Culver City</td>\n",
       "      <td>CA</td>\n",
       "      <td>YV1A22MK9H1013237</td>\n",
       "      <td>Volvo</td>\n",
       "      <td>S90T6</td>\n",
       "    </tr>\n",
       "    <tr>\n",
       "      <th>852118</th>\n",
       "      <td>72260</td>\n",
       "      <td>2017</td>\n",
       "      <td>3201</td>\n",
       "      <td>Englewood</td>\n",
       "      <td>NJ</td>\n",
       "      <td>YV4A22PL3H1186162</td>\n",
       "      <td>Volvo</td>\n",
       "      <td>XC90T6</td>\n",
       "    </tr>\n",
       "    <tr>\n",
       "      <th>852119</th>\n",
       "      <td>55999</td>\n",
       "      <td>2016</td>\n",
       "      <td>28941</td>\n",
       "      <td>Fort Collins</td>\n",
       "      <td>CO</td>\n",
       "      <td>YV4A22PL4G1000868</td>\n",
       "      <td>Volvo</td>\n",
       "      <td>XC90AWD</td>\n",
       "    </tr>\n",
       "    <tr>\n",
       "      <th>852120</th>\n",
       "      <td>60240</td>\n",
       "      <td>2017</td>\n",
       "      <td>3005</td>\n",
       "      <td>San Leandro</td>\n",
       "      <td>CA</td>\n",
       "      <td>YV4A22NLXH1006162</td>\n",
       "      <td>Volvo</td>\n",
       "      <td>V90</td>\n",
       "    </tr>\n",
       "    <tr>\n",
       "      <th>852121</th>\n",
       "      <td>76995</td>\n",
       "      <td>2017</td>\n",
       "      <td>2502</td>\n",
       "      <td>New York</td>\n",
       "      <td>NY</td>\n",
       "      <td>YV4BC0ZX1H1109845</td>\n",
       "      <td>Volvo</td>\n",
       "      <td>XC90T8</td>\n",
       "    </tr>\n",
       "  </tbody>\n",
       "</table>\n",
       "<p>852122 rows × 8 columns</p>\n",
       "</div>"
      ],
      "text/plain": [
       "        Price  Year  Mileage              City State                Vin  \\\n",
       "0        8995  2014    35725           El Paso    TX  19VDE2E53EE000083   \n",
       "1       10888  2013    19606  Long Island City    NY  19VDE1F52DE012636   \n",
       "2        8995  2013    48851           El Paso    TX  19VDE2E52DE000025   \n",
       "3       10999  2014    39922           Windsor    CO  19VDE1F71EE003817   \n",
       "4       14799  2016    22142            Lindon    UT  19UDE2F32GA001284   \n",
       "...       ...   ...      ...               ...   ...                ...   \n",
       "852117  63215  2017        9       Culver City    CA  YV1A22MK9H1013237   \n",
       "852118  72260  2017     3201         Englewood    NJ  YV4A22PL3H1186162   \n",
       "852119  55999  2016    28941      Fort Collins    CO  YV4A22PL4G1000868   \n",
       "852120  60240  2017     3005       San Leandro    CA  YV4A22NLXH1006162   \n",
       "852121  76995  2017     2502          New York    NY  YV4BC0ZX1H1109845   \n",
       "\n",
       "         Make         Model  \n",
       "0       Acura    ILX6-Speed  \n",
       "1       Acura    ILX5-Speed  \n",
       "2       Acura    ILX6-Speed  \n",
       "3       Acura    ILX5-Speed  \n",
       "4       Acura  ILXAutomatic  \n",
       "...       ...           ...  \n",
       "852117  Volvo         S90T6  \n",
       "852118  Volvo        XC90T6  \n",
       "852119  Volvo       XC90AWD  \n",
       "852120  Volvo           V90  \n",
       "852121  Volvo        XC90T8  \n",
       "\n",
       "[852122 rows x 8 columns]"
      ]
     },
     "execution_count": 2,
     "metadata": {},
     "output_type": "execute_result"
    }
   ],
   "source": [
    "df = pd.read_csv('../db/true_car_listings.csv')\n",
    "df"
   ]
  },
  {
   "cell_type": "markdown",
   "metadata": {},
   "source": [
    "# Tamaño del dataset: 852122 filas"
   ]
  },
  {
   "cell_type": "code",
   "execution_count": 3,
   "metadata": {},
   "outputs": [
    {
     "data": {
      "text/plain": [
       "852075"
      ]
     },
     "execution_count": 3,
     "metadata": {},
     "output_type": "execute_result"
    }
   ],
   "source": [
    "len(df.Vin.unique())"
   ]
  },
  {
   "cell_type": "code",
   "execution_count": 4,
   "metadata": {},
   "outputs": [
    {
     "data": {
      "text/plain": [
       "(852122, 8)"
      ]
     },
     "execution_count": 4,
     "metadata": {},
     "output_type": "execute_result"
    }
   ],
   "source": [
    "df.shape"
   ]
  },
  {
   "cell_type": "markdown",
   "metadata": {},
   "source": [
    "# Distribución por precio\n"
   ]
  },
  {
   "cell_type": "code",
   "execution_count": 39,
   "metadata": {},
   "outputs": [
    {
     "data": {
      "text/plain": [
       "(-10000.0, 120000.0)"
      ]
     },
     "execution_count": 39,
     "metadata": {},
     "output_type": "execute_result"
    },
    {
     "data": {
      "image/png": "[encoded data removed]",
      "text/plain": [
       "<Figure size 640x480 with 1 Axes>"
      ]
     },
     "metadata": {},
     "output_type": "display_data"
    }
   ],
   "source": [
    "ax2 = df.Price.hist(bins=200)\n",
    "ax2.set_xlim((-10000,120000))"
   ]
  },
  {
   "cell_type": "markdown",
   "metadata": {},
   "source": [
    "# Distribución por año\n"
   ]
  },
  {
   "cell_type": "code",
   "execution_count": null,
   "metadata": {},
   "outputs": [
    {
     "data": {
      "text/plain": [
       "<AxesSubplot: >"
      ]
     },
     "metadata": {},
     "output_type": "display_data"
    },
    {
     "data": {
      "image/png": "[encoded data removed]",
      "text/plain": [
       "<Figure size 640x480 with 1 Axes>"
      ]
     },
     "metadata": {},
     "output_type": "display_data"
    }
   ],
   "source": [
    "df.Year.hist(bins=22)\n"
   ]
  },
  {
   "cell_type": "markdown",
   "metadata": {},
   "source": [
    "# Distribución por millas recorridas"
   ]
  },
  {
   "cell_type": "code",
   "execution_count": 36,
   "metadata": {},
   "outputs": [
    {
     "data": {
      "text/plain": [
       "(-10000.0, 300000.0)"
      ]
     },
     "execution_count": 36,
     "metadata": {},
     "output_type": "execute_result"
    },
    {
     "data": {
      "image/png": "[encoded data removed]",
      "text/plain": [
       "<Figure size 640x480 with 1 Axes>"
      ]
     },
     "metadata": {},
     "output_type": "display_data"
    }
   ],
   "source": [
    "ax_list= df.Mileage.hist(bins=1000)\n",
    "ax_list.set_xlim((-10000,300000))"
   ]
  },
  {
   "cell_type": "markdown",
   "metadata": {},
   "source": [
    "# Datos de autos de 2553 ciudades"
   ]
  },
  {
   "cell_type": "code",
   "execution_count": 7,
   "metadata": {},
   "outputs": [
    {
     "data": {
      "text/plain": [
       "2553"
      ]
     },
     "execution_count": 7,
     "metadata": {},
     "output_type": "execute_result"
    }
   ],
   "source": [
    "len(df.City.unique())"
   ]
  },
  {
   "cell_type": "markdown",
   "metadata": {},
   "source": [
    "# Datos de 51 estados"
   ]
  },
  {
   "cell_type": "code",
   "execution_count": 8,
   "metadata": {},
   "outputs": [
    {
     "data": {
      "text/plain": [
       "51"
      ]
     },
     "execution_count": 8,
     "metadata": {},
     "output_type": "execute_result"
    }
   ],
   "source": [
    "len(df.State.str.lower().unique())"
   ]
  },
  {
   "cell_type": "code",
   "execution_count": 9,
   "metadata": {},
   "outputs": [
    {
     "data": {
      "text/html": [
       "<div>\n",
       "<style scoped>\n",
       "    .dataframe tbody tr th:only-of-type {\n",
       "        vertical-align: middle;\n",
       "    }\n",
       "\n",
       "    .dataframe tbody tr th {\n",
       "        vertical-align: top;\n",
       "    }\n",
       "\n",
       "    .dataframe thead th {\n",
       "        text-align: right;\n",
       "    }\n",
       "</style>\n",
       "<table border=\"1\" class=\"dataframe\">\n",
       "  <thead>\n",
       "    <tr style=\"text-align: right;\">\n",
       "      <th></th>\n",
       "      <th>num_to_cat_rate</th>\n",
       "      <th>len of unique</th>\n",
       "      <th>len of data</th>\n",
       "      <th>col type</th>\n",
       "      <th>unique of col</th>\n",
       "      <th>count of nan</th>\n",
       "    </tr>\n",
       "  </thead>\n",
       "  <tbody>\n",
       "    <tr>\n",
       "      <th>Vin</th>\n",
       "      <td>0.999945</td>\n",
       "      <td>852075</td>\n",
       "      <td>852122</td>\n",
       "      <td>object</td>\n",
       "      <td>[19VDE2E53EE000083, 19VDE1F52DE012636, 19VDE2E52DE000025, 19VDE1F71EE003817, 19UDE2F32GA001284, JH4CU2F83CC019895, JH4CU2F84EC002686, JH4CU2F64DC0...</td>\n",
       "      <td>0</td>\n",
       "    </tr>\n",
       "    <tr>\n",
       "      <th>Mileage</th>\n",
       "      <td>0.186401</td>\n",
       "      <td>158836</td>\n",
       "      <td>852122</td>\n",
       "      <td>int64</td>\n",
       "      <td>[35725, 19606, 48851, 39922, 22142, 105246, 34032, 32384, 57596, 63887, 58550, 40527, 91980, 13797, 35035, 23454, 23603, 19250, 68289, 60552, 2394...</td>\n",
       "      <td>0</td>\n",
       "    </tr>\n",
       "    <tr>\n",
       "      <th>Price</th>\n",
       "      <td>0.055302</td>\n",
       "      <td>47124</td>\n",
       "      <td>852122</td>\n",
       "      <td>int64</td>\n",
       "      <td>[8995, 10888, 10999, 14799, 7989, 14490, 13995, 10495, 9995, 12921, 12000, 7750, 17628, 13999, 14995, 14990, 14590, 9500, 7990, 16994, 15499, 1349...</td>\n",
       "      <td>0</td>\n",
       "    </tr>\n",
       "    <tr>\n",
       "      <th>Model</th>\n",
       "      <td>0.003211</td>\n",
       "      <td>2736</td>\n",
       "      <td>852122</td>\n",
       "      <td>object</td>\n",
       "      <td>[ILX6-Speed, ILX5-Speed, ILXAutomatic, TSXAutomatic, TSXSpecial, TSX5-Speed, TSX4dr, TSX, ILX4dr, ILXAcuraWatch, ILXHybrid, TSXManual, TSXPremium,...</td>\n",
       "      <td>0</td>\n",
       "    </tr>\n",
       "    <tr>\n",
       "      <th>City</th>\n",
       "      <td>0.002996</td>\n",
       "      <td>2553</td>\n",
       "      <td>852122</td>\n",
       "      <td>object</td>\n",
       "      <td>[El Paso, Long Island City, Windsor, Lindon, Miami, Greatneck, West Jordan, Waterbury, Boise, San Antonio, Fargo, Santa Ana, Hackettstown, Freepor...</td>\n",
       "      <td>0</td>\n",
       "    </tr>\n",
       "    <tr>\n",
       "      <th>State</th>\n",
       "      <td>0.000069</td>\n",
       "      <td>59</td>\n",
       "      <td>852122</td>\n",
       "      <td>object</td>\n",
       "      <td>[ TX,  NY,  CO,  UT,  FL,  CT,  ID,  ND,  CA,  NJ,  OH,  VA,  IN,  AZ,  OR,  KS,  NE,  MA,  MD,  GA,  MN,  HI,  LA,  NM,  IL,  AL,  PA,  SC,  NC, ...</td>\n",
       "      <td>0</td>\n",
       "    </tr>\n",
       "    <tr>\n",
       "      <th>Make</th>\n",
       "      <td>0.000068</td>\n",
       "      <td>58</td>\n",
       "      <td>852122</td>\n",
       "      <td>object</td>\n",
       "      <td>[Acura, Alfa, AM, Aston, Audi, Bentley, BMW, Buick, Cadillac, Chevrolet, Chrysler, Dodge, Ferrari, FIAT, Fisker, Ford, Freightliner, Genesis, Geo,...</td>\n",
       "      <td>0</td>\n",
       "    </tr>\n",
       "    <tr>\n",
       "      <th>Year</th>\n",
       "      <td>0.000026</td>\n",
       "      <td>22</td>\n",
       "      <td>852122</td>\n",
       "      <td>int64</td>\n",
       "      <td>[2014, 2013, 2016, 2012, 2009, 2015, 2010, 2011, 2007, 2006, 2008, 2004, 2017, 2005, 2003, 2002, 1999, 2001, 2000, 1998, 2018, 1997]</td>\n",
       "      <td>0</td>\n",
       "    </tr>\n",
       "  </tbody>\n",
       "</table>\n",
       "</div>"
      ],
      "text/plain": [
       "        num_to_cat_rate len of unique len of data col type  \\\n",
       "Vin            0.999945        852075      852122   object   \n",
       "Mileage        0.186401        158836      852122    int64   \n",
       "Price          0.055302         47124      852122    int64   \n",
       "Model          0.003211          2736      852122   object   \n",
       "City           0.002996          2553      852122   object   \n",
       "State          0.000069            59      852122   object   \n",
       "Make           0.000068            58      852122   object   \n",
       "Year           0.000026            22      852122    int64   \n",
       "\n",
       "                                                                                                                                                 unique of col  \\\n",
       "Vin      [19VDE2E53EE000083, 19VDE1F52DE012636, 19VDE2E52DE000025, 19VDE1F71EE003817, 19UDE2F32GA001284, JH4CU2F83CC019895, JH4CU2F84EC002686, JH4CU2F64DC0...   \n",
       "Mileage  [35725, 19606, 48851, 39922, 22142, 105246, 34032, 32384, 57596, 63887, 58550, 40527, 91980, 13797, 35035, 23454, 23603, 19250, 68289, 60552, 2394...   \n",
       "Price    [8995, 10888, 10999, 14799, 7989, 14490, 13995, 10495, 9995, 12921, 12000, 7750, 17628, 13999, 14995, 14990, 14590, 9500, 7990, 16994, 15499, 1349...   \n",
       "Model    [ILX6-Speed, ILX5-Speed, ILXAutomatic, TSXAutomatic, TSXSpecial, TSX5-Speed, TSX4dr, TSX, ILX4dr, ILXAcuraWatch, ILXHybrid, TSXManual, TSXPremium,...   \n",
       "City     [El Paso, Long Island City, Windsor, Lindon, Miami, Greatneck, West Jordan, Waterbury, Boise, San Antonio, Fargo, Santa Ana, Hackettstown, Freepor...   \n",
       "State    [ TX,  NY,  CO,  UT,  FL,  CT,  ID,  ND,  CA,  NJ,  OH,  VA,  IN,  AZ,  OR,  KS,  NE,  MA,  MD,  GA,  MN,  HI,  LA,  NM,  IL,  AL,  PA,  SC,  NC, ...   \n",
       "Make     [Acura, Alfa, AM, Aston, Audi, Bentley, BMW, Buick, Cadillac, Chevrolet, Chrysler, Dodge, Ferrari, FIAT, Fisker, Ford, Freightliner, Genesis, Geo,...   \n",
       "Year                      [2014, 2013, 2016, 2012, 2009, 2015, 2010, 2011, 2007, 2006, 2008, 2004, 2017, 2005, 2003, 2002, 1999, 2001, 2000, 1998, 2018, 1997]   \n",
       "\n",
       "        count of nan  \n",
       "Vin                0  \n",
       "Mileage            0  \n",
       "Price              0  \n",
       "Model              0  \n",
       "City               0  \n",
       "State              0  \n",
       "Make               0  \n",
       "Year               0  "
      ]
     },
     "metadata": {},
     "output_type": "display_data"
    }
   ],
   "source": [
    "data = utils.cat_num_rate_analysis(df);"
   ]
  },
  {
   "cell_type": "markdown",
   "metadata": {},
   "source": [
    "# 58 Marcas de auto"
   ]
  },
  {
   "cell_type": "code",
   "execution_count": 10,
   "metadata": {},
   "outputs": [
    {
     "data": {
      "text/plain": [
       "array(['AM', 'Acura', 'Alfa', 'Aston', 'Audi', 'BMW', 'Bentley', 'Buick',\n",
       "       'Cadillac', 'Chevrolet', 'Chrysler', 'Dodge', 'FIAT', 'Ferrari',\n",
       "       'Fisker', 'Ford', 'Freightliner', 'GMC', 'Genesis', 'Geo',\n",
       "       'HUMMER', 'Honda', 'Hyundai', 'INFINITI', 'Isuzu', 'Jaguar',\n",
       "       'Jeep', 'Kia', 'Lamborghini', 'Land', 'Lexus', 'Lincoln', 'Lotus',\n",
       "       'MINI', 'Maserati', 'Maybach', 'Mazda', 'McLaren', 'Mercedes-Benz',\n",
       "       'Mercury', 'Mitsubishi', 'Nissan', 'Oldsmobile', 'Plymouth',\n",
       "       'Pontiac', 'Porsche', 'Ram', 'Rolls-Royce', 'Saab', 'Saturn',\n",
       "       'Scion', 'Subaru', 'Suzuki', 'Tesla', 'Toyota', 'Volkswagen',\n",
       "       'Volvo', 'smart'], dtype=object)"
      ]
     },
     "execution_count": 10,
     "metadata": {},
     "output_type": "execute_result"
    }
   ],
   "source": [
    "marcas = data['unique of col']['Make']\n",
    "marcas.sort()\n",
    "marcas"
   ]
  },
  {
   "cell_type": "markdown",
   "metadata": {},
   "source": [
    "# Datos entre 1997 y 2018"
   ]
  },
  {
   "cell_type": "code",
   "execution_count": 11,
   "metadata": {},
   "outputs": [
    {
     "data": {
      "text/plain": [
       "array([1997, 1998, 1999, 2000, 2001, 2002, 2003, 2004, 2005, 2006, 2007,\n",
       "       2008, 2009, 2010, 2011, 2012, 2013, 2014, 2015, 2016, 2017, 2018],\n",
       "      dtype=int64)"
      ]
     },
     "execution_count": 11,
     "metadata": {},
     "output_type": "execute_result"
    }
   ],
   "source": [
    "years = data['unique of col']['Year']\n",
    "years.sort()\n",
    "years"
   ]
  },
  {
   "cell_type": "code",
   "execution_count": 13,
   "metadata": {},
   "outputs": [
    {
     "data": {
      "text/plain": [
       "22"
      ]
     },
     "execution_count": 13,
     "metadata": {},
     "output_type": "execute_result"
    }
   ],
   "source": [
    "len(years)\n"
   ]
  },
  {
   "cell_type": "code",
   "execution_count": null,
   "metadata": {},
   "outputs": [],
   "source": []
  }
 ],
 "metadata": {
  "kernelspec": {
   "display_name": "Python 3.10.6 ('dl')",
   "language": "python",
   "name": "python3"
  },
  "language_info": {
   "codemirror_mode": {
    "name": "ipython",
    "version": 3
   },
   "file_extension": ".py",
   "mimetype": "text/x-python",
   "name": "python",
   "nbconvert_exporter": "python",
   "pygments_lexer": "ipython3",
   "version": "3.10.6"
  },
  "orig_nbformat": 4,
  "vscode": {
   "interpreter": {
    "hash": "88f3c7bcb2ddd9bbecb49b07cce2dbf7ad24b91a73731a897c825faf176394b2"
   }
  }
 },
 "nbformat": 4,
 "nbformat_minor": 2
}
